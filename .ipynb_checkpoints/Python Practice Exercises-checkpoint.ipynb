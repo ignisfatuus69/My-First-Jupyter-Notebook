{
 "cells": [
  {
   "cell_type": "markdown",
   "id": "0fa493de",
   "metadata": {},
   "source": [
    "### Python Basics"
   ]
  },
  {
   "cell_type": "markdown",
   "id": "50d9b590",
   "metadata": {},
   "source": [
    "Use Python basic mathematical operation to solve the problem below. What is the output?"
   ]
  },
  {
   "cell_type": "code",
   "execution_count": 1,
   "id": "d9de00e7",
   "metadata": {},
   "outputs": [
    {
     "data": {
      "text/plain": [
       "-48"
      ]
     },
     "execution_count": 1,
     "metadata": {},
     "output_type": "execute_result"
    }
   ],
   "source": [
    "(-10-2)*4"
   ]
  },
  {
   "cell_type": "markdown",
   "id": "99179b13",
   "metadata": {},
   "source": [
    "Use Python basic mathematical operation to solve the problem below. What is the output?"
   ]
  },
  {
   "cell_type": "code",
   "execution_count": 2,
   "id": "7be4f56c",
   "metadata": {},
   "outputs": [
    {
     "data": {
      "text/plain": [
       "21.0"
      ]
     },
     "execution_count": 2,
     "metadata": {},
     "output_type": "execute_result"
    }
   ],
   "source": [
    "1+2+3+4.0+5+6\n"
   ]
  },
  {
   "cell_type": "markdown",
   "id": "18560e8f",
   "metadata": {},
   "source": [
    "Use Python basic mathematical operation to solve the problem below. What is the output?"
   ]
  },
  {
   "cell_type": "code",
   "execution_count": 3,
   "id": "9864381e",
   "metadata": {},
   "outputs": [
    {
     "data": {
      "text/plain": [
       "54"
      ]
     },
     "execution_count": 3,
     "metadata": {},
     "output_type": "execute_result"
    }
   ],
   "source": [
    "int(\"5\" + \"4\")"
   ]
  },
  {
   "cell_type": "markdown",
   "id": "d475a375",
   "metadata": {},
   "source": [
    "### Datastructures "
   ]
  },
  {
   "cell_type": "markdown",
   "id": "4e24aaa8",
   "metadata": {},
   "source": [
    " How do you access the last element of the tuple: A=(0,1,2,3)\n",
    " "
   ]
  },
  {
   "cell_type": "code",
   "execution_count": 5,
   "id": "5300e9d7",
   "metadata": {},
   "outputs": [
    {
     "data": {
      "text/plain": [
       "3"
      ]
     },
     "execution_count": 5,
     "metadata": {},
     "output_type": "execute_result"
    }
   ],
   "source": [
    "A=(0,1,2,3)\n",
    "A[3]\n",
    "A[-1]"
   ]
  },
  {
   "cell_type": "markdown",
   "id": "f2dab5fa",
   "metadata": {},
   "source": [
    "Consider the list B=[\"a\",\"b\",\"c\"]. What is the result of the following B[1:]"
   ]
  },
  {
   "cell_type": "code",
   "execution_count": 14,
   "id": "ac04a402",
   "metadata": {},
   "outputs": [
    {
     "data": {
      "text/plain": [
       "['b', 'c']"
      ]
     },
     "execution_count": 14,
     "metadata": {},
     "output_type": "execute_result"
    }
   ],
   "source": [
    "B=[\"a\",\"b\",\"c\"]\n",
    "B[1:]"
   ]
  },
  {
   "cell_type": "markdown",
   "id": "b395ed0c",
   "metadata": {},
   "source": [
    "What does union do on this situation?"
   ]
  },
  {
   "cell_type": "code",
   "execution_count": 20,
   "id": "4c04bbe4",
   "metadata": {},
   "outputs": [
    {
     "name": "stdout",
     "output_type": "stream",
     "text": [
      "{'A', 'Z', 'B', 'C'}\n",
      "{'A', 'Z', 'C'}\n"
     ]
    }
   ],
   "source": [
    "#Combined\n",
    "S = {'A', 'B', 'C'}\n",
    "T = {'A', 'Z', 'C'}\n",
    "U = T.union(S)\n",
    "print(U)\n",
    "\n",
    "#Trick question\n",
    "S = {'A', 'B', 'C'}\n",
    "S = {'A', 'Z', 'C'}\n",
    "U = U.union(S)\n",
    "print(S)\n",
    "\n"
   ]
  },
  {
   "cell_type": "markdown",
   "id": "58e70718",
   "metadata": {},
   "source": [
    "Consider the following Dictionary. What is the result of the following: D.values()"
   ]
  },
  {
   "cell_type": "code",
   "execution_count": 21,
   "id": "e8148099",
   "metadata": {},
   "outputs": [
    {
     "data": {
      "text/plain": [
       "dict_values([0, 1, 2])"
      ]
     },
     "execution_count": 21,
     "metadata": {},
     "output_type": "execute_result"
    }
   ],
   "source": [
    "D = {'a' :0, 'b' :1, 'c' :2}\n",
    "D.values()"
   ]
  },
  {
   "cell_type": "markdown",
   "id": "9881a363",
   "metadata": {},
   "source": [
    "Consider the following Dictionary. What is the output of the following D['b']"
   ]
  },
  {
   "cell_type": "code",
   "execution_count": 22,
   "id": "911a3465",
   "metadata": {},
   "outputs": [
    {
     "data": {
      "text/plain": [
       "1"
      ]
     },
     "execution_count": 22,
     "metadata": {},
     "output_type": "execute_result"
    }
   ],
   "source": [
    "D = {'a' :0, 'b' :1, 'c' :2}\n",
    "D['b']"
   ]
  },
  {
   "cell_type": "markdown",
   "id": "513b0a77",
   "metadata": {},
   "source": [
    "### Building Algorithms Task"
   ]
  },
  {
   "cell_type": "markdown",
   "id": "f6234620",
   "metadata": {},
   "source": [
    "Write a Python program to calculate a dog's age in dog's years. Note: For the first two years, a dog year is equal to 10.5 human years. After that, each dog year equals 4 human years."
   ]
  },
  {
   "cell_type": "code",
   "execution_count": 3,
   "id": "2ab3a238",
   "metadata": {},
   "outputs": [
    {
     "name": "stdout",
     "output_type": "stream",
     "text": [
      "Input a dog's age in human years: 2\n",
      "The dog's age in dog's years is 21.0\n"
     ]
    }
   ],
   "source": [
    "h_age = int(input(\"Input a dog's age in human years: \"))\n",
    "\n",
    "if h_age < 0:\n",
    "    print(\"Age must be positive number\")\n",
    "    exit()\n",
    "if h_age <= 2:\n",
    "    d_age = h_age * 10.5\n",
    "else:\n",
    "    d_age = 21 + (h_age - 2)*4\n",
    "print (\"The dog's age in dog's years is\", d_age)"
   ]
  },
  {
   "cell_type": "markdown",
   "id": "3db42eba",
   "metadata": {},
   "source": [
    "Complete the code below to get the expected outcome. Write a Python function to find the Max of three numbers."
   ]
  },
  {
   "cell_type": "code",
   "execution_count": 17,
   "id": "e2c6a033",
   "metadata": {},
   "outputs": [
    {
     "name": "stdout",
     "output_type": "stream",
     "text": [
      "55\n"
     ]
    }
   ],
   "source": [
    "def max_of_two(x,y):\n",
    "    if (x>y):\n",
    "        return x\n",
    "    return y\n",
    "\n",
    "def max_of_three(x,y,z):\n",
    "    return max_of_two(x,(max_of_two(y,z)))\n",
    "\n",
    "def max_of_four(a,x,y,z):\n",
    "    return max_of_two(a,(max_of_three(x,y,z)))\n",
    "print(max_of_four(55,3,6,-5))"
   ]
  },
  {
   "cell_type": "markdown",
   "id": "d6cc1a1e",
   "metadata": {},
   "source": [
    "Complete the code below to get the expected outcome. Write a Python program to find those numbers which are divisible by 7 and multiple of 5, between 1500 and 2700 (both included)"
   ]
  },
  {
   "cell_type": "code",
   "execution_count": 19,
   "id": "2f873ac3",
   "metadata": {},
   "outputs": [
    {
     "name": "stdout",
     "output_type": "stream",
     "text": [
      "1505,1540,1575,1610,1645,1680,1715,1750,1785,1820,1855,1890,1925,1960,1995,2030,2065,2100,2135,2170,2205,2240,2275,2310,2345,2380,2415,2450,2485,2520,2555,2590,2625,2660,2695\n"
     ]
    }
   ],
   "source": [
    "nl=[]\n",
    "for x in range(1500,2701):\n",
    "    if (x%7==0) and (x%5==0):\n",
    "        nl.append(str(x))\n",
    "print(','.join(nl))"
   ]
  },
  {
   "cell_type": "markdown",
   "id": "c3ca15c5",
   "metadata": {},
   "source": [
    "Complete the code below to get the expected outcome. Write a Python program that prints all the numbers from 0 to 6 except 3 and 6. Note: Use 'continue' statement."
   ]
  },
  {
   "cell_type": "code",
   "execution_count": 32,
   "id": "f19828fb",
   "metadata": {},
   "outputs": [
    {
     "name": "stdout",
     "output_type": "stream",
     "text": [
      "0 1 2 4 5 "
     ]
    }
   ],
   "source": [
    "for x in range(0,7):\n",
    "    if (x==3 or x==6):\n",
    "        continue\n",
    "    else:\n",
    "        print(x,end=' ')"
   ]
  },
  {
   "cell_type": "markdown",
   "id": "77deca89",
   "metadata": {},
   "source": [
    "Complete the code below to get the expected outcome. Write a Python program to reverse a string. Given String 1234abcd."
   ]
  },
  {
   "cell_type": "code",
   "execution_count": 52,
   "id": "6199a907",
   "metadata": {},
   "outputs": [
    {
     "name": "stdout",
     "output_type": "stream",
     "text": [
      "dcba4321\n"
     ]
    }
   ],
   "source": [
    "def string_reverse(str1):\n",
    "    rstr1=''\n",
    "    index = len(str1)\n",
    "    while index > 0:\n",
    "        rstr1 +=str1[index-1]\n",
    "        index = index - 1\n",
    "    return rstr1\n",
    "        ##rstr1 += str1[index-1]\n",
    "        ##index = index - 1\n",
    "    ##return str1\n",
    "print(string_reverse('1234abcd'))"
   ]
  }
 ],
 "metadata": {
  "kernelspec": {
   "display_name": "Python 3 (ipykernel)",
   "language": "python",
   "name": "python3"
  },
  "language_info": {
   "codemirror_mode": {
    "name": "ipython",
    "version": 3
   },
   "file_extension": ".py",
   "mimetype": "text/x-python",
   "name": "python",
   "nbconvert_exporter": "python",
   "pygments_lexer": "ipython3",
   "version": "3.11.5"
  }
 },
 "nbformat": 4,
 "nbformat_minor": 5
}
