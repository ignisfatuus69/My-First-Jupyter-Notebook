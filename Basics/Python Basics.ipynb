{
 "cells": [
  {
   "cell_type": "markdown",
   "id": "d6eb3ab2",
   "metadata": {},
   "source": [
    "# Python Basics"
   ]
  },
  {
   "cell_type": "markdown",
   "id": "ed34a247",
   "metadata": {},
   "source": [
    "### Writing Functions"
   ]
  },
  {
   "cell_type": "markdown",
   "id": "4df49346",
   "metadata": {},
   "source": [
    "#### Function for Mean"
   ]
  },
  {
   "cell_type": "code",
   "execution_count": 1,
   "id": "0185ca70",
   "metadata": {},
   "outputs": [
    {
     "name": "stdout",
     "output_type": "stream",
     "text": [
      "2.5\n"
     ]
    }
   ],
   "source": [
    "#This is without using sum function\n",
    "def get_mean(list):\n",
    "    sum = 0\n",
    "    mean = 0\n",
    "    for item in list:\n",
    "        sum = sum + item\n",
    "        mean = sum/len(list)\n",
    "    return mean\n",
    "\n",
    "list = [0,1,2,3,4,5]\n",
    "print(get_mean(list))"
   ]
  },
  {
   "cell_type": "markdown",
   "id": "5e9cee80",
   "metadata": {},
   "source": [
    "#### Function for Median"
   ]
  },
  {
   "cell_type": "code",
   "execution_count": 2,
   "id": "e5db8e08",
   "metadata": {},
   "outputs": [
    {
     "name": "stdout",
     "output_type": "stream",
     "text": [
      "2.5\n"
     ]
    }
   ],
   "source": [
    "#This is without using the sorted function for lists\n",
    "def get_median(list):\n",
    "    num_values = len(list)\n",
    "    sorted_list = sorted(list)\n",
    "    middle_value = num_values/2\n",
    "    #if length is odd\n",
    "    if(num_values%2==1): return sorted_list[(int)(((num_values+1)/2) - 1)]\n",
    "    #if length is even\n",
    "    if(num_values%2==0): return (sorted_list[(int)(middle_value-1)] + sorted_list[(int)(middle_value)]) / 2\n",
    "    \n",
    "list = [0,1,2,3,4,5]\n",
    "print(get_median(list))"
   ]
  },
  {
   "cell_type": "markdown",
   "id": "b82ad982",
   "metadata": {},
   "source": [
    "#### Function for Mode"
   ]
  },
  {
   "cell_type": "code",
   "execution_count": 3,
   "id": "067402f7",
   "metadata": {},
   "outputs": [
    {
     "data": {
      "text/plain": [
       "4.428571428571429"
      ]
     },
     "execution_count": 3,
     "metadata": {},
     "output_type": "execute_result"
    }
   ],
   "source": [
    "def get_mode(list):\n",
    "    first_value = 3 * get_mean(list)\n",
    "    second_value = 2* get_median(list)\n",
    "    return first_value - second_value\n",
    "\n",
    "list = [0,1,1,1,3,4,5]\n",
    "get_mode(list)"
   ]
  },
  {
   "cell_type": "markdown",
   "id": "ce7a40a1",
   "metadata": {},
   "source": [
    "#### Function for finding vowels in a String\n"
   ]
  },
  {
   "cell_type": "code",
   "execution_count": null,
   "id": "d214f7e6",
   "metadata": {},
   "outputs": [],
   "source": []
  },
  {
   "cell_type": "markdown",
   "id": "76144528",
   "metadata": {},
   "source": [
    "### List Indexing"
   ]
  },
  {
   "cell_type": "markdown",
   "id": "c8566f6e",
   "metadata": {},
   "source": [
    "#### Finding all elements until 3rd index"
   ]
  },
  {
   "cell_type": "code",
   "execution_count": 4,
   "id": "2c8b2d42",
   "metadata": {},
   "outputs": [
    {
     "name": "stdout",
     "output_type": "stream",
     "text": [
      "['Fluffy', 'Lucas', 'Jacob']\n"
     ]
    }
   ],
   "source": [
    "my_dogs = ['Fluffy','Lucas','Jacob','Patchi','Mojie']\n",
    "print(my_dogs[0:3])"
   ]
  },
  {
   "cell_type": "markdown",
   "id": "9ccce2aa",
   "metadata": {},
   "source": [
    "#### Finding all elements starting at the 3rd"
   ]
  },
  {
   "cell_type": "code",
   "execution_count": 5,
   "id": "f43f228c",
   "metadata": {},
   "outputs": [
    {
     "name": "stdout",
     "output_type": "stream",
     "text": [
      "['Jacob', 'Patchi', 'Mojie']\n"
     ]
    }
   ],
   "source": [
    "my_dogs = ['Fluffy','Lucas','Jacob','Patchi','Mojie']\n",
    "print(my_dogs[2:])"
   ]
  },
  {
   "cell_type": "markdown",
   "id": "f5dc447a",
   "metadata": {},
   "source": [
    "#### Finding elements in between the first and last element"
   ]
  },
  {
   "cell_type": "code",
   "execution_count": 6,
   "id": "a01ee409",
   "metadata": {},
   "outputs": [
    {
     "name": "stdout",
     "output_type": "stream",
     "text": [
      "['Lucas', 'Jacob', 'Patchi']\n"
     ]
    }
   ],
   "source": [
    "my_dogs = ['Fluffy','Lucas','Jacob','Patchi','Mojie']\n",
    "print(my_dogs[1:-1])"
   ]
  },
  {
   "cell_type": "markdown",
   "id": "50b2d70a",
   "metadata": {},
   "source": [
    "#### Finding last 3 elements"
   ]
  },
  {
   "cell_type": "code",
   "execution_count": 7,
   "id": "bfdd9113",
   "metadata": {},
   "outputs": [
    {
     "name": "stdout",
     "output_type": "stream",
     "text": [
      "['Fluffy', 'Lucas', 'Jacob']\n"
     ]
    }
   ],
   "source": [
    "my_dogs = ['Fluffy','Lucas','Jacob','Patchi','Mojie']\n",
    "print(my_dogs[:-2])"
   ]
  },
  {
   "cell_type": "markdown",
   "id": "5164e63b",
   "metadata": {},
   "source": [
    "### List Comprehensions"
   ]
  },
  {
   "cell_type": "markdown",
   "id": "7da26e8c",
   "metadata": {},
   "source": [
    "#### Finding countries with string length of 10 "
   ]
  },
  {
   "cell_type": "code",
   "execution_count": 8,
   "id": "893c81b8",
   "metadata": {},
   "outputs": [
    {
     "name": "stdout",
     "output_type": "stream",
     "text": [
      "['Lucas', 'Jacob', 'Mojie', 'Luke']\n"
     ]
    }
   ],
   "source": [
    "my_dogs = ['Fluffy','Lucas','Jacob','Patchi','Mojie','Luke']\n",
    "short_named_dogs =[dog for dog in my_dogs if len(dog)<=5]\n",
    "print(short_named_dogs)"
   ]
  },
  {
   "cell_type": "markdown",
   "id": "2d57fe7a",
   "metadata": {},
   "source": [
    "#### Adding ! on after all capitalized dog names"
   ]
  },
  {
   "cell_type": "code",
   "execution_count": 9,
   "id": "1b644201",
   "metadata": {},
   "outputs": [
    {
     "name": "stdout",
     "output_type": "stream",
     "text": [
      "['FLUFFY!', 'LUCAS!', 'JACOB!', 'PATCHI!', 'MOJIE!', 'LUKE!']\n",
      "['Fluffy', 'LUCAS!', 'JACOB!', 'Patchi', 'MOJIE!', 'LUKE!']\n",
      "['fluffy~~', 'LUCAS!', 'JACOB!', 'patchi~~', 'MOJIE!', 'LUKE!']\n"
     ]
    }
   ],
   "source": [
    "#first condition\n",
    "my_dogs = ['Fluffy','Lucas','Jacob','Patchi','Mojie','Luke']\n",
    "new_dog_names =[dog.upper() + '!' for dog in my_dogs if len(dog) ]\n",
    "print(new_dog_names)\n",
    "#reversed condition, we add a condition\n",
    "my_dogs = ['Fluffy', 'Lucas', 'Jacob', 'Patchi', 'Mojie', 'Luke']\n",
    "new_dog_names = [dog.upper() + '!' if len(dog) <= 5 else dog for dog in my_dogs]\n",
    "print(new_dog_names)\n",
    "##reversed condition with another added specification after an else statement\n",
    "my_dogs = ['Fluffy', 'Lucas', 'Jacob', 'Patchi', 'Mojie', 'Luke']\n",
    "new_dog_names = [dog.upper() + '!' if len(dog) <= 5 else dog.lower() + '~~' for dog in my_dogs]\n",
    "print(new_dog_names)\n"
   ]
  },
  {
   "cell_type": "markdown",
   "id": "f3a37c92",
   "metadata": {},
   "source": [
    "#### Returning the count of all negative numbers in a data ( find a data later with negative numbers)"
   ]
  },
  {
   "cell_type": "code",
   "execution_count": 10,
   "id": "184bb96b",
   "metadata": {},
   "outputs": [
    {
     "name": "stdout",
     "output_type": "stream",
     "text": [
      "[-3, -6]\n"
     ]
    }
   ],
   "source": [
    "random_numbers = [-3,-6,3,5,7]\n",
    "negative_numbers =[number for number in random_numbers if number<0]\n",
    "print(negative_numbers)"
   ]
  },
  {
   "cell_type": "markdown",
   "id": "235f96af",
   "metadata": {},
   "source": [
    "### Strings"
   ]
  },
  {
   "cell_type": "markdown",
   "id": "60d52977",
   "metadata": {},
   "source": [
    "#### Concatenation"
   ]
  },
  {
   "cell_type": "code",
   "execution_count": 11,
   "id": "7277afca",
   "metadata": {},
   "outputs": [
    {
     "name": "stdout",
     "output_type": "stream",
     "text": [
      "love mojie\n",
      "12\n"
     ]
    }
   ],
   "source": [
    "print ('love ' + 'mojie')\n",
    "# Convert int to string to make it addable\n",
    "print ('1' + (str)(2))"
   ]
  },
  {
   "cell_type": "markdown",
   "id": "31bf29cb",
   "metadata": {},
   "source": [
    "#### Escape Sequences"
   ]
  },
  {
   "cell_type": "code",
   "execution_count": 12,
   "id": "deb705f7",
   "metadata": {},
   "outputs": [
    {
     "name": "stdout",
     "output_type": "stream",
     "text": [
      "It's \"kind of\" sunny\n",
      "\t indent this\n",
      "print \n",
      " the \n",
      " next \n",
      " line\n"
     ]
    }
   ],
   "source": [
    "#putting a \\ before punctation marks to indicate that they're a string\n",
    "weather = 'It\\'s \\\"kind of\\\" sunny'\n",
    "print(weather)\n",
    "indented = '\\t indent this'\n",
    "print(indented)\n",
    "next_line = 'print \\n the \\n next \\n line'\n",
    "print(next_line)"
   ]
  },
  {
   "cell_type": "markdown",
   "id": "c5885cf8",
   "metadata": {},
   "source": [
    "#### Formatting"
   ]
  },
  {
   "cell_type": "code",
   "execution_count": 13,
   "id": "05996f24",
   "metadata": {},
   "outputs": [
    {
     "name": "stdout",
     "output_type": "stream",
     "text": [
      "My dog Mojie is 3 years old\n"
     ]
    }
   ],
   "source": [
    "#Easy way to format just like string.Format in C#\n",
    "name = 'Mojie'\n",
    "age = 3\n",
    "\n",
    "print(f'My dog {name} is {age} years old')"
   ]
  },
  {
   "cell_type": "markdown",
   "id": "cc44813b",
   "metadata": {},
   "source": [
    "### Dictionaries"
   ]
  },
  {
   "cell_type": "markdown",
   "id": "7a1cbef4",
   "metadata": {},
   "source": [
    "#### Creating Dictionaries"
   ]
  },
  {
   "cell_type": "code",
   "execution_count": 14,
   "id": "94d62103",
   "metadata": {},
   "outputs": [
    {
     "name": "stdout",
     "output_type": "stream",
     "text": [
      "123\n"
     ]
    }
   ],
   "source": [
    "dogs = {'brown':'mojie', 'black':'fluffy','white':(str)(123)}\n",
    "print(dogs['white'])"
   ]
  },
  {
   "cell_type": "markdown",
   "id": "db27fe94",
   "metadata": {},
   "source": [
    "#### Dictionary Comprehension"
   ]
  },
  {
   "cell_type": "code",
   "execution_count": 15,
   "id": "bf3bac47",
   "metadata": {},
   "outputs": [
    {
     "name": "stdout",
     "output_type": "stream",
     "text": [
      "{'P': 'Patchi', 'F': 'Fluffy', 'M': 'Mojie'}\n",
      "dict_keys(['P', 'F', 'M'])\n",
      "dict_values(['Patchi', 'Fluffy', 'Mojie'])\n"
     ]
    }
   ],
   "source": [
    "#Creation of a dictionary where the keys are the initial value of the dogs' names and the values are the dog names\n",
    "#You can inverse dog[0] with dog to swap the results\n",
    "#each index is referred to as an item\n",
    "dogs = {'Mojie','Patchi','Fluffy'}\n",
    "dogs_to_initial = {dog[0]: dog for dog in dogs}\n",
    "print(dogs_to_initial)\n",
    "print(dogs_to_initial.keys())\n",
    "print(dogs_to_initial.values())"
   ]
  },
  {
   "cell_type": "code",
   "execution_count": null,
   "id": "14e7c0b5",
   "metadata": {},
   "outputs": [],
   "source": []
  },
  {
   "cell_type": "code",
   "execution_count": null,
   "id": "bd28e58b",
   "metadata": {},
   "outputs": [],
   "source": []
  }
 ],
 "metadata": {
  "kernelspec": {
   "display_name": "Python 3 (ipykernel)",
   "language": "python",
   "name": "python3"
  },
  "language_info": {
   "codemirror_mode": {
    "name": "ipython",
    "version": 3
   },
   "file_extension": ".py",
   "mimetype": "text/x-python",
   "name": "python",
   "nbconvert_exporter": "python",
   "pygments_lexer": "ipython3",
   "version": "3.11.5"
  }
 },
 "nbformat": 4,
 "nbformat_minor": 5
}
